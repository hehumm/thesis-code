{
 "cells": [
  {
   "cell_type": "code",
   "execution_count": 3,
   "metadata": {},
   "outputs": [],
   "source": [
    "import pandas as pd\n",
    "\n",
    "dfs = []\n",
    "sum_data_folder_path = '/Users/henrihummal/Code/personal/loputoo/api-forecast/src/data/load_energy_sum'\n",
    "site_files = {\n",
    "    '2': sum_data_folder_path + '/2.json', \n",
    "    '4': sum_data_folder_path + '/4.json', \n",
    "    '5': sum_data_folder_path + '/5.json', \n",
    "    '6': sum_data_folder_path + '/6.json', \n",
    "    '12': sum_data_folder_path + '/12.json',\n",
    "}\n",
    "\n",
    "for site, file_path in site_files.items():\n",
    "    df = pd.read_json(file_path)\n",
    "    df['site'] = site\n",
    "    dfs.append(df)\n",
    "\n",
    "combined_df = pd.concat(dfs, ignore_index=True)\n",
    "\n",
    "combined_df.set_index(['site', 'time_bucket'], inplace=True)\n"
   ]
  },
  {
   "cell_type": "code",
   "execution_count": 7,
   "metadata": {},
   "outputs": [
    {
     "name": "stdout",
     "output_type": "stream",
     "text": [
      "Number of missing values: 0\n"
     ]
    }
   ],
   "source": [
    "missing_values = combined_df['load_energy_sum'].isnull().sum()\n",
    "print(f'Number of missing values: {missing_values}')"
   ]
  }
 ],
 "metadata": {
  "kernelspec": {
   "display_name": "Python 3 (ipykernel)",
   "language": "python",
   "name": "python3"
  },
  "language_info": {
   "codemirror_mode": {
    "name": "ipython",
    "version": 3
   },
   "file_extension": ".py",
   "mimetype": "text/x-python",
   "name": "python",
   "nbconvert_exporter": "python",
   "pygments_lexer": "ipython3",
   "version": "3.11.8"
  }
 },
 "nbformat": 4,
 "nbformat_minor": 2
}
