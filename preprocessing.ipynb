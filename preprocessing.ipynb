{
 "cells": [
  {
   "cell_type": "code",
   "execution_count": 3,
   "metadata": {},
   "outputs": [],
   "source": [
    "import pandas as pd\n",
    "\n",
    "dfs = []\n",
    "sum_data_folder_path = '/Users/henrihummal/Code/personal/loputoo/api-forecast/src/data/load_energy_sum'\n",
    "site_files = {\n",
    "    '2': sum_data_folder_path + '/2.json', \n",
    "    '4': sum_data_folder_path + '/4.json', \n",
    "    '5': sum_data_folder_path + '/5.json', \n",
    "    '6': sum_data_folder_path + '/6.json', \n",
    "    '12': sum_data_folder_path + '/12.json',\n",
    "}\n",
    "\n",
    "for site, file_path in site_files.items():\n",
    "    df = pd.read_json(file_path)\n",
    "    df['site'] = site\n",
    "    dfs.append(df)\n",
    "\n",
    "combined_df = pd.concat(dfs, ignore_index=True)\n",
    "\n",
    "combined_df.set_index(['site', 'time_bucket'], inplace=True)\n"
   ]
  },
  {
   "cell_type": "code",
   "execution_count": 7,
   "metadata": {},
   "outputs": [
    {
     "name": "stdout",
     "output_type": "stream",
     "text": [
      "Number of missing values: 0\n"
     ]
    }
   ],
   "source": [
    "missing_values = combined_df['load_energy_sum'].isnull().sum()\n",
    "print(f'Number of missing values: {missing_values}')"
   ]
  },
  {
   "cell_type": "code",
   "execution_count": 14,
   "metadata": {},
   "outputs": [
    {
     "name": "stdout",
     "output_type": "stream",
     "text": [
      "[('2', Timestamp('2024-08-16 10:00:00+0000', tz='UTC')), ('4', Timestamp('2024-08-17 05:00:00+0000', tz='UTC')), ('4', Timestamp('2024-08-17 06:00:00+0000', tz='UTC')), ('5', Timestamp('2024-07-15 12:00:00+0000', tz='UTC')), ('5', Timestamp('2024-07-15 13:00:00+0000', tz='UTC')), ('5', Timestamp('2024-07-15 14:00:00+0000', tz='UTC')), ('5', Timestamp('2024-07-15 15:00:00+0000', tz='UTC')), ('5', Timestamp('2024-07-26 04:00:00+0000', tz='UTC')), ('5', Timestamp('2024-07-26 05:00:00+0000', tz='UTC')), ('5', Timestamp('2024-07-27 22:00:00+0000', tz='UTC')), ('5', Timestamp('2024-07-27 23:00:00+0000', tz='UTC')), ('5', Timestamp('2024-07-28 00:00:00+0000', tz='UTC')), ('5', Timestamp('2024-07-28 01:00:00+0000', tz='UTC')), ('5', Timestamp('2024-07-28 02:00:00+0000', tz='UTC')), ('5', Timestamp('2024-07-28 03:00:00+0000', tz='UTC')), ('5', Timestamp('2024-07-28 04:00:00+0000', tz='UTC')), ('5', Timestamp('2024-08-03 04:00:00+0000', tz='UTC')), ('5', Timestamp('2024-08-09 14:00:00+0000', tz='UTC')), ('5', Timestamp('2024-08-09 15:00:00+0000', tz='UTC')), ('5', Timestamp('2024-08-12 03:00:00+0000', tz='UTC')), ('5', Timestamp('2024-08-18 13:00:00+0000', tz='UTC')), ('5', Timestamp('2024-08-18 14:00:00+0000', tz='UTC')), ('12', Timestamp('2024-07-02 07:00:00+0000', tz='UTC')), ('12', Timestamp('2024-07-11 05:00:00+0000', tz='UTC')), ('12', Timestamp('2024-07-11 06:00:00+0000', tz='UTC'))]\n"
     ]
    }
   ],
   "source": [
    "import pandas as pd\n",
    "\n",
    "# Assuming `combined_df` is your MultiIndex DataFrame with 'site' and 'time_bucket' as the index\n",
    "\n",
    "# Convert the time_bucket to datetime if it's not already\n",
    "combined_df.index = combined_df.index.set_levels(pd.to_datetime(combined_df.index.levels[1]), level=1)\n",
    "\n",
    "# Initialize an empty list to store missing timestamps\n",
    "missing_hours = []\n",
    "\n",
    "# Iterate over each site\n",
    "for site in combined_df.index.levels[0]:\n",
    "    # Get the data for the current site\n",
    "    site_df = combined_df.loc[site]\n",
    "    \n",
    "    # Generate the complete range of hourly timestamps for this site\n",
    "    full_range = pd.date_range(start=site_df.index.min(), end=site_df.index.max(), freq='H')\n",
    "    \n",
    "    # Identify the missing timestamps for this site\n",
    "    missing_timestamps = full_range.difference(site_df.index)\n",
    "    \n",
    "    # Store the missing hours along with the site information\n",
    "    for missing_time in missing_timestamps:\n",
    "        missing_hours.append((site, missing_time))\n",
    "\n",
    "missing_hours.sort(key=lambda x: (int(x[0]), x[1]))\n",
    "\n",
    "# Output the missing hours\n",
    "print(missing_hours)\n"
   ]
  }
 ],
 "metadata": {
  "kernelspec": {
   "display_name": "Python 3 (ipykernel)",
   "language": "python",
   "name": "python3"
  },
  "language_info": {
   "codemirror_mode": {
    "name": "ipython",
    "version": 3
   },
   "file_extension": ".py",
   "mimetype": "text/x-python",
   "name": "python",
   "nbconvert_exporter": "python",
   "pygments_lexer": "ipython3",
   "version": "3.11.8"
  }
 },
 "nbformat": 4,
 "nbformat_minor": 2
}
